{
 "metadata": {
  "language_info": {
   "codemirror_mode": {
    "name": "ipython",
    "version": 3
   },
   "file_extension": ".py",
   "mimetype": "text/x-python",
   "name": "python",
   "nbconvert_exporter": "python",
   "pygments_lexer": "ipython3",
   "version": "3.8.6-final"
  },
  "orig_nbformat": 2,
  "kernelspec": {
   "name": "python3",
   "display_name": "Python 3",
   "language": "python"
  }
 },
 "nbformat": 4,
 "nbformat_minor": 2,
 "cells": [
  {
   "cell_type": "code",
   "execution_count": 1,
   "metadata": {},
   "outputs": [],
   "source": [
    "# 모듈 불러오기\n",
    "from sklearn.model_selection import train_test_split\n",
    "from sklearn import datasets\n",
    "from sklearn.linear_model import LinearRegression\n",
    "\n",
    "import pandas as pd"
   ]
  },
  {
   "cell_type": "code",
   "execution_count": 2,
   "metadata": {},
   "outputs": [],
   "source": [
    "# sklearn의 boston 예제 데이터셋 불러오기\n",
    "boston_dataset = datasets.load_boston()\n",
    "boston_data = boston_dataset.data\n",
    "boston_target = boston_dataset.target"
   ]
  },
  {
   "cell_type": "code",
   "execution_count": 3,
   "metadata": {},
   "outputs": [],
   "source": [
    "# 훈련 데이터, 라벨 데이터, 테스트 데이터 추출하기\n",
    "train_boston_data, test_boston_data, train_boston_target, test_boston_target = train_test_split(boston_data, boston_target, test_size = 0.2)"
   ]
  },
  {
   "cell_type": "code",
   "execution_count": 4,
   "metadata": {},
   "outputs": [
    {
     "output_type": "stream",
     "name": "stdout",
     "text": [
      "train_boston_data type : <class 'numpy.ndarray'>\nshape : (404, 13)\ndtype : float64\n==================================================\ntest_boston_data type : <class 'numpy.ndarray'>\nshape : (102, 13)\ndtype : float64\n==================================================\ntrain_boston_target type : <class 'numpy.ndarray'>\nshape : (404,)\ndtype : float64\n==================================================\n"
     ]
    }
   ],
   "source": [
    "# 훈련 데이터\n",
    "print(\"train_boston_data type : {}\" .format(type(train_boston_data)))\n",
    "print(\"shape : {}\" .format(train_boston_data.shape))\n",
    "print(\"dtype : {}\" .format(train_boston_data.dtype))\n",
    "print(\"=\"*50)\n",
    "\n",
    "# 테스트 데이터\n",
    "print(\"test_boston_data type : {}\" .format(type(test_boston_data)))\n",
    "print(\"shape : {}\" .format(test_boston_data.shape))\n",
    "print(\"dtype : {}\" .format(test_boston_data.dtype))\n",
    "print(\"=\"*50)\n",
    "\n",
    "# 라벨 데이터\n",
    "print(\"train_boston_target type : {}\" .format(type(train_boston_target)))\n",
    "print(\"shape : {}\" .format(train_boston_target.shape))\n",
    "print(\"dtype : {}\" .format(test_boston_data.dtype))\n",
    "print(\"=\"*50)"
   ]
  },
  {
   "cell_type": "code",
   "execution_count": 5,
   "metadata": {},
   "outputs": [
    {
     "output_type": "stream",
     "name": "stdout",
     "text": [
      "        0     1      2    3      4      5     6       7    8      9     10  \\\n0  0.03113   0.0   4.39  0.0  0.442  6.014  48.5  8.0136  3.0  352.0  18.8   \n1  0.04527   0.0  11.93  0.0  0.573  6.120  76.7  2.2875  1.0  273.0  21.0   \n2  0.08221  22.0   5.86  0.0  0.431  6.957   6.8  8.9067  7.0  330.0  19.1   \n3  0.52014  20.0   3.97  0.0  0.647  8.398  91.5  2.2885  5.0  264.0  13.0   \n\n       11     12  \n0  385.64  10.53  \n1  396.90   9.08  \n2  386.09   3.53  \n3  386.86   5.91  \n"
     ]
    }
   ],
   "source": [
    "# 데이터 확인해보기\n",
    "df_train_boston_data = pd.DataFrame(train_boston_data)\n",
    "print(df_train_boston_data[:4])"
   ]
  },
  {
   "cell_type": "code",
   "execution_count": 6,
   "metadata": {},
   "outputs": [
    {
     "output_type": "execute_result",
     "data": {
      "text/plain": [
       "LinearRegression()"
      ]
     },
     "metadata": {},
     "execution_count": 6
    }
   ],
   "source": [
    "# LinearRegression 객체 생성하기\n",
    "linearRegression = LinearRegression()\n",
    "\n",
    "# 학습하기\n",
    "linearRegression.fit(train_boston_data, train_boston_target)"
   ]
  },
  {
   "cell_type": "code",
   "execution_count": 7,
   "metadata": {},
   "outputs": [
    {
     "output_type": "execute_result",
     "data": {
      "text/plain": [
       "0.685906512867875"
      ]
     },
     "metadata": {},
     "execution_count": 7
    }
   ],
   "source": [
    "# 평가하기\n",
    "linearRegression.score(test_boston_data, test_boston_target)"
   ]
  },
  {
   "cell_type": "code",
   "execution_count": 8,
   "metadata": {},
   "outputs": [
    {
     "output_type": "stream",
     "name": "stdout",
     "text": [
      "linearRegression.intercept_ type : <class 'numpy.float64'>\nshape : ()\ndtype : float64\n==================================================\nlinearRegression.coef_ type : <class 'numpy.ndarray'>\nshape : (13,)\ndtype : float64\n==================================================\nLinearRegression coef\n[-1.16441911e-01  4.66304923e-02 -2.31352491e-02  2.79122476e+00\n -1.33027755e+01  4.51466277e+00 -1.23840371e-02 -1.34971135e+00\n  2.89870181e-01 -1.33993802e-02 -9.61886195e-01  1.04294610e-02\n -3.73870661e-01]\n"
     ]
    }
   ],
   "source": [
    "# LinearRegression 가중치(weight) coef 확인하기\n",
    "print(\"linearRegression.intercept_ type : {}\" .format(type(linearRegression.intercept_)))\n",
    "print(\"shape : {}\" .format(linearRegression.intercept_.shape))\n",
    "print(\"dtype : {}\" .format(linearRegression.intercept_.dtype))\n",
    "print(\"=\"*50)\n",
    "\n",
    "print(\"linearRegression.coef_ type : {}\" .format(type(linearRegression.coef_)))\n",
    "print(\"shape : {}\" .format(linearRegression.coef_.shape))\n",
    "print(\"dtype : {}\" .format(linearRegression.coef_.dtype))\n",
    "print(\"=\"*50)\n",
    "\n",
    "print(\"LinearRegression coef\")\n",
    "print(linearRegression.coef_)"
   ]
  },
  {
   "cell_type": "code",
   "execution_count": 9,
   "metadata": {},
   "outputs": [
    {
     "output_type": "stream",
     "name": "stdout",
     "text": [
      "         Coefficient\nCRIM       -0.116442\nZN          0.046630\nINDUS      -0.023135\nCHAS        2.791225\nNOX       -13.302776\nRM          4.514663\nAGE        -0.012384\nDIS        -1.349711\nRAD         0.289870\nTAX        -0.013399\nPTRATIO    -0.961886\nB           0.010429\nLSTAT      -0.373871\n"
     ]
    }
   ],
   "source": [
    "# pandas DataFrame에서 LinearRegression coef 확인하기\n",
    "df_coef = pd.DataFrame(linearRegression.coef_, columns=['Coefficient'], index=boston_dataset.feature_names)\n",
    "print(df_coef)"
   ]
  },
  {
   "cell_type": "code",
   "execution_count": null,
   "metadata": {},
   "outputs": [],
   "source": []
  }
 ]
}