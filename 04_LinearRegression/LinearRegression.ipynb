{
 "metadata": {
  "language_info": {
   "codemirror_mode": {
    "name": "ipython",
    "version": 3
   },
   "file_extension": ".py",
   "mimetype": "text/x-python",
   "name": "python",
   "nbconvert_exporter": "python",
   "pygments_lexer": "ipython3",
   "version": "3.8.6-final"
  },
  "orig_nbformat": 2,
  "kernelspec": {
   "name": "python3",
   "display_name": "Python 3",
   "language": "python"
  }
 },
 "nbformat": 4,
 "nbformat_minor": 2,
 "cells": [
  {
   "cell_type": "code",
   "execution_count": 1,
   "metadata": {},
   "outputs": [],
   "source": [
    "# 모듈 불러오기\n",
    "from sklearn.linear_model import LinearRegression\n",
    "from sklearn.model_selection import train_test_split\n",
    "\n",
    "import pandas as pd"
   ]
  },
  {
   "cell_type": "code",
   "execution_count": 2,
   "metadata": {},
   "outputs": [],
   "source": [
    "# 엑셀 파일 읽기\n",
    "df = pd.read_excel('EcommerceCustomers.csv.xlsx')\n",
    "y = df['Yearly Amount Spent']\n",
    "x = df[['Avg. Session Length', 'Time on App', 'Time on Website', 'Length of Membership']]"
   ]
  },
  {
   "cell_type": "code",
   "execution_count": 3,
   "metadata": {},
   "outputs": [
    {
     "output_type": "stream",
     "name": "stdout",
     "text": [
      "x\n     Avg. Session Length  Time on App  Time on Website  Length of Membership\n0              34.497268    12.655651        39.577668              4.082621\n1              31.926272    11.109461        37.268959              2.664034\n2              33.000915    11.330278        37.110597              4.104543\n3              34.305557    13.717514        36.721283              3.120179\n4              33.330673    12.795189        37.536653              4.446308\n..                   ...          ...              ...                   ...\n495            33.237660    13.566160        36.417985              3.746573\n496            34.702529    11.695736        37.190268              3.576526\n497            32.646777    11.499409        38.332576              4.958264\n498            33.322501    12.391423        36.840086              2.336485\n499            33.715981    12.418808        35.771016              2.735160\n\n[500 rows x 4 columns]\n==================================================\ny\n0      587.951054\n1      392.204933\n2      487.547505\n3      581.852344\n4      599.406092\n          ...    \n495    573.847438\n496    529.049004\n497    551.620145\n498    456.469510\n499    497.778642\nName: Yearly Amount Spent, Length: 500, dtype: float64\n==================================================\n"
     ]
    }
   ],
   "source": [
    "# 데이터 출력해보기\n",
    "print(\"x\")\n",
    "print(x)\n",
    "print(\"=\"*50)\n",
    "\n",
    "print(\"y\")\n",
    "print(y)\n",
    "print(\"=\"*50)"
   ]
  },
  {
   "cell_type": "code",
   "execution_count": 4,
   "metadata": {},
   "outputs": [],
   "source": [
    "# 훈련 데이터, 라벨 데이터, 테스트 데이터 추출하기\n",
    "x_train, x_test, y_train, y_test = train_test_split(x, y, test_size=0.3)"
   ]
  },
  {
   "cell_type": "code",
   "execution_count": 5,
   "metadata": {},
   "outputs": [
    {
     "output_type": "execute_result",
     "data": {
      "text/plain": [
       "LinearRegression()"
      ]
     },
     "metadata": {},
     "execution_count": 5
    }
   ],
   "source": [
    "# 학습하기\n",
    "lr = LinearRegression()\n",
    "lr.fit(x_train, y_train)"
   ]
  },
  {
   "cell_type": "code",
   "execution_count": 6,
   "metadata": {},
   "outputs": [
    {
     "output_type": "stream",
     "name": "stdout",
     "text": [
      "                      Coefficient\nAvg. Session Length     25.963158\nTime on App             38.945968\nTime on Website          0.249003\nLength of Membership    61.489617\n"
     ]
    }
   ],
   "source": [
    "# 학습 후 가중치(weight) 값 확인해보기\n",
    "df_coef = pd.DataFrame(lr.coef_, columns=['Coefficient'], index=['Avg. Session Length', 'Time on App', 'Time on Website', 'Length of Membership'])\n",
    "print(df_coef)"
   ]
  },
  {
   "cell_type": "code",
   "execution_count": null,
   "metadata": {},
   "outputs": [],
   "source": []
  }
 ]
}